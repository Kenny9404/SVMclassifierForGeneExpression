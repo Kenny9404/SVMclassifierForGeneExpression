{
 "cells": [
  {
   "cell_type": "markdown",
   "metadata": {},
   "source": [
    "# Machine Learning Demonstration - Support Vector Machines"
   ]
  },
  {
   "cell_type": "markdown",
   "metadata": {},
   "source": [
    "### Import the needed python modules and the data"
   ]
  },
  {
   "cell_type": "code",
   "execution_count": 1,
   "metadata": {
    "collapsed": false
   },
   "outputs": [],
   "source": [
    "import numpy as np\n",
    "import pandas as pd\n",
    "import matplotlib.pyplot as plt\n",
    "%matplotlib inline"
   ]
  },
  {
   "cell_type": "code",
   "execution_count": 2,
   "metadata": {
    "collapsed": false
   },
   "outputs": [
    {
     "data": {
      "text/plain": [
       "(714, 59)"
      ]
     },
     "execution_count": 2,
     "metadata": {},
     "output_type": "execute_result"
    }
   ],
   "source": [
    "data = pd.read_table(\"cervical.txt\")\n",
    "data.shape"
   ]
  },
  {
   "cell_type": "code",
   "execution_count": 3,
   "metadata": {
    "collapsed": false
   },
   "outputs": [
    {
     "data": {
      "text/html": [
       "<div>\n",
       "<table border=\"1\" class=\"dataframe\">\n",
       "  <thead>\n",
       "    <tr style=\"text-align: right;\">\n",
       "      <th></th>\n",
       "      <th>ID</th>\n",
       "      <th>N1</th>\n",
       "      <th>N2</th>\n",
       "      <th>N3</th>\n",
       "      <th>N4</th>\n",
       "      <th>N5</th>\n",
       "      <th>N6</th>\n",
       "      <th>N7</th>\n",
       "      <th>N8</th>\n",
       "      <th>N9</th>\n",
       "      <th>...</th>\n",
       "      <th>T20</th>\n",
       "      <th>T21</th>\n",
       "      <th>T22</th>\n",
       "      <th>T23</th>\n",
       "      <th>T24</th>\n",
       "      <th>T25</th>\n",
       "      <th>T26</th>\n",
       "      <th>T27</th>\n",
       "      <th>T28</th>\n",
       "      <th>T29</th>\n",
       "    </tr>\n",
       "  </thead>\n",
       "  <tbody>\n",
       "    <tr>\n",
       "      <th>0</th>\n",
       "      <td>let-7a</td>\n",
       "      <td>865</td>\n",
       "      <td>810</td>\n",
       "      <td>5505</td>\n",
       "      <td>6692</td>\n",
       "      <td>1456</td>\n",
       "      <td>588</td>\n",
       "      <td>9</td>\n",
       "      <td>4513</td>\n",
       "      <td>1962</td>\n",
       "      <td>...</td>\n",
       "      <td>37</td>\n",
       "      <td>3174</td>\n",
       "      <td>116</td>\n",
       "      <td>1722</td>\n",
       "      <td>68</td>\n",
       "      <td>12121</td>\n",
       "      <td>14398</td>\n",
       "      <td>39196</td>\n",
       "      <td>198</td>\n",
       "      <td>1422</td>\n",
       "    </tr>\n",
       "    <tr>\n",
       "      <th>1</th>\n",
       "      <td>let-7a*</td>\n",
       "      <td>3</td>\n",
       "      <td>12</td>\n",
       "      <td>30</td>\n",
       "      <td>73</td>\n",
       "      <td>6</td>\n",
       "      <td>2</td>\n",
       "      <td>0</td>\n",
       "      <td>199</td>\n",
       "      <td>10</td>\n",
       "      <td>...</td>\n",
       "      <td>0</td>\n",
       "      <td>648</td>\n",
       "      <td>4</td>\n",
       "      <td>212</td>\n",
       "      <td>6</td>\n",
       "      <td>2</td>\n",
       "      <td>80</td>\n",
       "      <td>164</td>\n",
       "      <td>18</td>\n",
       "      <td>1</td>\n",
       "    </tr>\n",
       "    <tr>\n",
       "      <th>2</th>\n",
       "      <td>let-7b</td>\n",
       "      <td>975</td>\n",
       "      <td>2790</td>\n",
       "      <td>4912</td>\n",
       "      <td>24286</td>\n",
       "      <td>1759</td>\n",
       "      <td>508</td>\n",
       "      <td>33</td>\n",
       "      <td>6162</td>\n",
       "      <td>1455</td>\n",
       "      <td>...</td>\n",
       "      <td>99</td>\n",
       "      <td>102358</td>\n",
       "      <td>184</td>\n",
       "      <td>28274</td>\n",
       "      <td>401</td>\n",
       "      <td>14471</td>\n",
       "      <td>24097</td>\n",
       "      <td>73139</td>\n",
       "      <td>669</td>\n",
       "      <td>2492</td>\n",
       "    </tr>\n",
       "    <tr>\n",
       "      <th>3</th>\n",
       "      <td>let-7b*</td>\n",
       "      <td>15</td>\n",
       "      <td>18</td>\n",
       "      <td>27</td>\n",
       "      <td>119</td>\n",
       "      <td>11</td>\n",
       "      <td>3</td>\n",
       "      <td>0</td>\n",
       "      <td>116</td>\n",
       "      <td>17</td>\n",
       "      <td>...</td>\n",
       "      <td>0</td>\n",
       "      <td>334</td>\n",
       "      <td>1</td>\n",
       "      <td>189</td>\n",
       "      <td>5</td>\n",
       "      <td>34</td>\n",
       "      <td>115</td>\n",
       "      <td>230</td>\n",
       "      <td>4</td>\n",
       "      <td>15</td>\n",
       "    </tr>\n",
       "    <tr>\n",
       "      <th>4</th>\n",
       "      <td>let-7c</td>\n",
       "      <td>828</td>\n",
       "      <td>1251</td>\n",
       "      <td>2973</td>\n",
       "      <td>6413</td>\n",
       "      <td>713</td>\n",
       "      <td>339</td>\n",
       "      <td>23</td>\n",
       "      <td>2002</td>\n",
       "      <td>476</td>\n",
       "      <td>...</td>\n",
       "      <td>34</td>\n",
       "      <td>1711</td>\n",
       "      <td>22</td>\n",
       "      <td>3127</td>\n",
       "      <td>199</td>\n",
       "      <td>3186</td>\n",
       "      <td>1454</td>\n",
       "      <td>5883</td>\n",
       "      <td>167</td>\n",
       "      <td>321</td>\n",
       "    </tr>\n",
       "  </tbody>\n",
       "</table>\n",
       "<p>5 rows × 59 columns</p>\n",
       "</div>"
      ],
      "text/plain": [
       "        ID   N1    N2    N3     N4    N5   N6  N7    N8    N9  ...   T20  \\\n",
       "0   let-7a  865   810  5505   6692  1456  588   9  4513  1962  ...    37   \n",
       "1  let-7a*    3    12    30     73     6    2   0   199    10  ...     0   \n",
       "2   let-7b  975  2790  4912  24286  1759  508  33  6162  1455  ...    99   \n",
       "3  let-7b*   15    18    27    119    11    3   0   116    17  ...     0   \n",
       "4   let-7c  828  1251  2973   6413   713  339  23  2002   476  ...    34   \n",
       "\n",
       "      T21  T22    T23  T24    T25    T26    T27  T28   T29  \n",
       "0    3174  116   1722   68  12121  14398  39196  198  1422  \n",
       "1     648    4    212    6      2     80    164   18     1  \n",
       "2  102358  184  28274  401  14471  24097  73139  669  2492  \n",
       "3     334    1    189    5     34    115    230    4    15  \n",
       "4    1711   22   3127  199   3186   1454   5883  167   321  \n",
       "\n",
       "[5 rows x 59 columns]"
      ]
     },
     "execution_count": 3,
     "metadata": {},
     "output_type": "execute_result"
    }
   ],
   "source": [
    "data.head()"
   ]
  },
  {
   "cell_type": "markdown",
   "metadata": {},
   "source": [
    "### Let's look at the library sizes (total read counts per sample)"
   ]
  },
  {
   "cell_type": "code",
   "execution_count": 4,
   "metadata": {
    "collapsed": false
   },
   "outputs": [
    {
     "data": {
      "text/plain": [
       "<matplotlib.axes._subplots.AxesSubplot at 0x285ce38a240>"
      ]
     },
     "execution_count": 4,
     "metadata": {},
     "output_type": "execute_result"
    },
    {
     "data": {
      "image/png": "[encoded data removed]",
      "text/plain": [
       "<matplotlib.figure.Figure at 0x285ce361c50>"
      ]
     },
     "metadata": {},
     "output_type": "display_data"
    }
   ],
   "source": [
    "sizes = data.sum(numeric_only=True)\n",
    "sizes.plot.bar()"
   ]
  },
  {
   "cell_type": "markdown",
   "metadata": {},
   "source": [
    "### Normalization\n",
    "\n",
    "Our library sizes are very different.  Lets normalize the data for library size so we are comparing apples to apples.\n",
    "\n",
    "Here I use the normalization method of counts per milion (CPM).  We divide each count by the library size to give the proportion of total reads for each gene, then multiply by 1 million to get counts per 1 million."
   ]
  },
  {
   "cell_type": "code",
   "execution_count": 5,
   "metadata": {
    "collapsed": false
   },
   "outputs": [
    {
     "data": {
      "text/plain": [
       "(714, 59)"
      ]
     },
     "execution_count": 5,
     "metadata": {},
     "output_type": "execute_result"
    }
   ],
   "source": [
    "ID = data.ID\n",
    "data = data.drop('ID', 1)\n",
    "sums = data.sum()\n",
    "cpm = (data.div(sums))*1000000\n",
    "cpm.insert(loc=0, column='ID', value=ID)\n",
    "cpm.shape"
   ]
  },
  {
   "cell_type": "code",
   "execution_count": 6,
   "metadata": {
    "collapsed": false
   },
   "outputs": [
    {
     "data": {
      "text/html": [
       "<div>\n",
       "<table border=\"1\" class=\"dataframe\">\n",
       "  <thead>\n",
       "    <tr style=\"text-align: right;\">\n",
       "      <th></th>\n",
       "      <th>ID</th>\n",
       "      <th>N1</th>\n",
       "      <th>N2</th>\n",
       "      <th>N3</th>\n",
       "      <th>N4</th>\n",
       "      <th>N5</th>\n",
       "      <th>N6</th>\n",
       "      <th>N7</th>\n",
       "      <th>N8</th>\n",
       "      <th>N9</th>\n",
       "      <th>...</th>\n",
       "      <th>T20</th>\n",
       "      <th>T21</th>\n",
       "      <th>T22</th>\n",
       "      <th>T23</th>\n",
       "      <th>T24</th>\n",
       "      <th>T25</th>\n",
       "      <th>T26</th>\n",
       "      <th>T27</th>\n",
       "      <th>T28</th>\n",
       "      <th>T29</th>\n",
       "    </tr>\n",
       "  </thead>\n",
       "  <tbody>\n",
       "    <tr>\n",
       "      <th>0</th>\n",
       "      <td>let-7a</td>\n",
       "      <td>38531.783153</td>\n",
       "      <td>20352.781547</td>\n",
       "      <td>76760.042947</td>\n",
       "      <td>30209.461900</td>\n",
       "      <td>27533.518655</td>\n",
       "      <td>64283.371597</td>\n",
       "      <td>6807.866868</td>\n",
       "      <td>36119.603669</td>\n",
       "      <td>52587.847436</td>\n",
       "      <td>...</td>\n",
       "      <td>11923.944570</td>\n",
       "      <td>2586.676903</td>\n",
       "      <td>33001.422475</td>\n",
       "      <td>7373.595506</td>\n",
       "      <td>8835.758836</td>\n",
       "      <td>76912.338589</td>\n",
       "      <td>52987.005340</td>\n",
       "      <td>72541.794445</td>\n",
       "      <td>29320.302088</td>\n",
       "      <td>87036.356959</td>\n",
       "    </tr>\n",
       "    <tr>\n",
       "      <th>1</th>\n",
       "      <td>let-7a*</td>\n",
       "      <td>133.636242</td>\n",
       "      <td>301.522690</td>\n",
       "      <td>418.310861</td>\n",
       "      <td>329.541351</td>\n",
       "      <td>113.462302</td>\n",
       "      <td>218.650924</td>\n",
       "      <td>0.000000</td>\n",
       "      <td>1592.688041</td>\n",
       "      <td>268.031842</td>\n",
       "      <td>...</td>\n",
       "      <td>0.000000</td>\n",
       "      <td>528.092827</td>\n",
       "      <td>1137.980085</td>\n",
       "      <td>907.782954</td>\n",
       "      <td>779.625780</td>\n",
       "      <td>12.690758</td>\n",
       "      <td>294.413143</td>\n",
       "      <td>303.522152</td>\n",
       "      <td>2665.482008</td>\n",
       "      <td>61.207002</td>\n",
       "    </tr>\n",
       "    <tr>\n",
       "      <th>2</th>\n",
       "      <td>let-7b</td>\n",
       "      <td>43431.778698</td>\n",
       "      <td>70104.025328</td>\n",
       "      <td>68491.431599</td>\n",
       "      <td>109633.441676</td>\n",
       "      <td>33263.364914</td>\n",
       "      <td>55537.334645</td>\n",
       "      <td>24962.178517</td>\n",
       "      <td>49317.305076</td>\n",
       "      <td>38998.633038</td>\n",
       "      <td>...</td>\n",
       "      <td>31904.608443</td>\n",
       "      <td>83417.477754</td>\n",
       "      <td>52347.083926</td>\n",
       "      <td>121069.128528</td>\n",
       "      <td>52104.989605</td>\n",
       "      <td>91823.979187</td>\n",
       "      <td>88680.918716</td>\n",
       "      <td>135361.626286</td>\n",
       "      <td>99067.081297</td>\n",
       "      <td>152527.849186</td>\n",
       "    </tr>\n",
       "    <tr>\n",
       "      <th>3</th>\n",
       "      <td>let-7b*</td>\n",
       "      <td>668.181211</td>\n",
       "      <td>452.284034</td>\n",
       "      <td>376.479775</td>\n",
       "      <td>537.197544</td>\n",
       "      <td>208.014221</td>\n",
       "      <td>327.976386</td>\n",
       "      <td>0.000000</td>\n",
       "      <td>928.401069</td>\n",
       "      <td>455.654132</td>\n",
       "      <td>...</td>\n",
       "      <td>0.000000</td>\n",
       "      <td>272.195994</td>\n",
       "      <td>284.495021</td>\n",
       "      <td>809.297068</td>\n",
       "      <td>649.688150</td>\n",
       "      <td>215.742885</td>\n",
       "      <td>423.218892</td>\n",
       "      <td>425.671311</td>\n",
       "      <td>592.329335</td>\n",
       "      <td>918.105031</td>\n",
       "    </tr>\n",
       "    <tr>\n",
       "      <th>4</th>\n",
       "      <td>let-7c</td>\n",
       "      <td>36883.602833</td>\n",
       "      <td>31433.740389</td>\n",
       "      <td>41454.606300</td>\n",
       "      <td>28949.981943</td>\n",
       "      <td>13483.103572</td>\n",
       "      <td>37061.331584</td>\n",
       "      <td>17397.881997</td>\n",
       "      <td>16022.921902</td>\n",
       "      <td>12758.315688</td>\n",
       "      <td>...</td>\n",
       "      <td>10957.138253</td>\n",
       "      <td>1394.393251</td>\n",
       "      <td>6258.890469</td>\n",
       "      <td>13389.798575</td>\n",
       "      <td>25857.588358</td>\n",
       "      <td>20216.377423</td>\n",
       "      <td>5350.958867</td>\n",
       "      <td>10887.931848</td>\n",
       "      <td>24729.749741</td>\n",
       "      <td>19647.447668</td>\n",
       "    </tr>\n",
       "  </tbody>\n",
       "</table>\n",
       "<p>5 rows × 59 columns</p>\n",
       "</div>"
      ],
      "text/plain": [
       "        ID            N1            N2            N3             N4  \\\n",
       "0   let-7a  38531.783153  20352.781547  76760.042947   30209.461900   \n",
       "1  let-7a*    133.636242    301.522690    418.310861     329.541351   \n",
       "2   let-7b  43431.778698  70104.025328  68491.431599  109633.441676   \n",
       "3  let-7b*    668.181211    452.284034    376.479775     537.197544   \n",
       "4   let-7c  36883.602833  31433.740389  41454.606300   28949.981943   \n",
       "\n",
       "             N5            N6            N7            N8            N9  \\\n",
       "0  27533.518655  64283.371597   6807.866868  36119.603669  52587.847436   \n",
       "1    113.462302    218.650924      0.000000   1592.688041    268.031842   \n",
       "2  33263.364914  55537.334645  24962.178517  49317.305076  38998.633038   \n",
       "3    208.014221    327.976386      0.000000    928.401069    455.654132   \n",
       "4  13483.103572  37061.331584  17397.881997  16022.921902  12758.315688   \n",
       "\n",
       "       ...                 T20           T21           T22            T23  \\\n",
       "0      ...        11923.944570   2586.676903  33001.422475    7373.595506   \n",
       "1      ...            0.000000    528.092827   1137.980085     907.782954   \n",
       "2      ...        31904.608443  83417.477754  52347.083926  121069.128528   \n",
       "3      ...            0.000000    272.195994    284.495021     809.297068   \n",
       "4      ...        10957.138253   1394.393251   6258.890469   13389.798575   \n",
       "\n",
       "            T24           T25           T26            T27           T28  \\\n",
       "0   8835.758836  76912.338589  52987.005340   72541.794445  29320.302088   \n",
       "1    779.625780     12.690758    294.413143     303.522152   2665.482008   \n",
       "2  52104.989605  91823.979187  88680.918716  135361.626286  99067.081297   \n",
       "3    649.688150    215.742885    423.218892     425.671311    592.329335   \n",
       "4  25857.588358  20216.377423   5350.958867   10887.931848  24729.749741   \n",
       "\n",
       "             T29  \n",
       "0   87036.356959  \n",
       "1      61.207002  \n",
       "2  152527.849186  \n",
       "3     918.105031  \n",
       "4   19647.447668  \n",
       "\n",
       "[5 rows x 59 columns]"
      ]
     },
     "execution_count": 6,
     "metadata": {},
     "output_type": "execute_result"
    }
   ],
   "source": [
    "cpm.head()"
   ]
  },
  {
   "cell_type": "code",
   "execution_count": 7,
   "metadata": {
    "collapsed": false
   },
   "outputs": [
    {
     "data": {
      "text/plain": [
       "<matplotlib.axes._subplots.AxesSubplot at 0x285ce863d68>"
      ]
     },
     "execution_count": 7,
     "metadata": {},
     "output_type": "execute_result"
    },
    {
     "data": {
      "image/png": "[encoded data removed]",
      "text/plain": [
       "<matplotlib.figure.Figure at 0x285ce8659b0>"
      ]
     },
     "metadata": {},
     "output_type": "display_data"
    }
   ],
   "source": [
    "sizes = cpm.sum(numeric_only=True)\n",
    "sizes.plot.bar()"
   ]
  },
  {
   "cell_type": "markdown",
   "metadata": {},
   "source": [
    "### Here I re-format the data into a form suitable for input into the machine learning algorithm"
   ]
  },
  {
   "cell_type": "code",
   "execution_count": 8,
   "metadata": {
    "collapsed": false
   },
   "outputs": [],
   "source": [
    "cpm = cpm.transpose()\n",
    "cpm = np.array(cpm[1:])\n",
    "class_labels = np.array([\"normal\"]*29 + [\"tumor\"]*29)"
   ]
  },
  {
   "cell_type": "markdown",
   "metadata": {},
   "source": [
    "### Train/Test Split - split the data into a training set and a testing set"
   ]
  },
  {
   "cell_type": "code",
   "execution_count": 9,
   "metadata": {
    "collapsed": false
   },
   "outputs": [],
   "source": [
    "from sklearn.model_selection import train_test_split\n",
    "X_train, X_test, y_train, y_test = train_test_split(cpm, class_labels, test_size=0.20, random_state=2)"
   ]
  },
  {
   "cell_type": "code",
   "execution_count": 10,
   "metadata": {
    "collapsed": false
   },
   "outputs": [
    {
     "name": "stdout",
     "output_type": "stream",
     "text": [
      "(46, 714)\n",
      "(12, 714)\n"
     ]
    }
   ],
   "source": [
    "print(X_train.shape)\n",
    "print(X_test.shape)"
   ]
  },
  {
   "cell_type": "markdown",
   "metadata": {},
   "source": [
    "### Now we'll use support vector machines with a linear kernel to create a classifier"
   ]
  },
  {
   "cell_type": "code",
   "execution_count": 11,
   "metadata": {
    "collapsed": false
   },
   "outputs": [],
   "source": [
    "from sklearn import svm\n",
    "svc = svm.SVC(kernel='linear', C=1.0).fit(X_train, y_train)"
   ]
  },
  {
   "cell_type": "markdown",
   "metadata": {},
   "source": [
    "### Predict classifications of the test set data with our model and see how well the model performs"
   ]
  },
  {
   "cell_type": "markdown",
   "metadata": {},
   "source": [
    "Here are the predictions:"
   ]
  },
  {
   "cell_type": "code",
   "execution_count": 12,
   "metadata": {
    "collapsed": false
   },
   "outputs": [
    {
     "name": "stdout",
     "output_type": "stream",
     "text": [
      "['tumor' 'tumor' 'tumor' 'tumor' 'normal' 'tumor' 'normal' 'normal' 'tumor'\n",
      " 'normal' 'tumor' 'tumor']\n"
     ]
    }
   ],
   "source": [
    "predictions = svc.predict(X_test)\n",
    "print(predictions)"
   ]
  },
  {
   "cell_type": "markdown",
   "metadata": {},
   "source": [
    "Here is the ground truth (we know what the samples are ahead of time):"
   ]
  },
  {
   "cell_type": "code",
   "execution_count": 13,
   "metadata": {
    "collapsed": false
   },
   "outputs": [
    {
     "name": "stdout",
     "output_type": "stream",
     "text": [
      "['tumor' 'tumor' 'tumor' 'tumor' 'normal' 'tumor' 'normal' 'normal' 'tumor'\n",
      " 'normal' 'tumor' 'tumor']\n"
     ]
    }
   ],
   "source": [
    "print(y_test)"
   ]
  },
  {
   "cell_type": "markdown",
   "metadata": {},
   "source": [
    "Here is our prediction accuracy:"
   ]
  },
  {
   "cell_type": "code",
   "execution_count": 14,
   "metadata": {
    "collapsed": false
   },
   "outputs": [
    {
     "name": "stdout",
     "output_type": "stream",
     "text": [
      "Prediction accuracy =  100.0 %\n"
     ]
    }
   ],
   "source": [
    "print(\"Prediction accuracy = \", round((svc.score(X_test, y_test)*100), 1), \"%\")"
   ]
  }
 ],
 "metadata": {
  "anaconda-cloud": {},
  "kernelspec": {
   "display_name": "Python [conda root]",
   "language": "python",
   "name": "conda-root-py"
  },
  "language_info": {
   "codemirror_mode": {
    "name": "ipython",
    "version": 3
   },
   "file_extension": ".py",
   "mimetype": "text/x-python",
   "name": "python",
   "nbconvert_exporter": "python",
   "pygments_lexer": "ipython3",
   "version": "3.5.3"
  }
 },
 "nbformat": 4,
 "nbformat_minor": 0
}
